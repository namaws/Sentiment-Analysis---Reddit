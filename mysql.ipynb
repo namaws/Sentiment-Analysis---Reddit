{
 "cells": [
  {
   "cell_type": "code",
   "execution_count": 36,
   "id": "49c410b7-ec14-4b6d-bab0-bc2bda0ea7dc",
   "metadata": {},
   "outputs": [],
   "source": [
    "import mysql.connector\n",
    "import praw"
   ]
  },
  {
   "cell_type": "code",
   "execution_count": 63,
   "id": "5b773de6-b093-4f3e-a922-895662c5ada7",
   "metadata": {},
   "outputs": [],
   "source": [
    "with open ('pw.txt','r') as f:\n",
    "    pws = f.read()\n",
    "    pws = pws.split(',')\n",
    "pw = pws[0]\n",
    "CLIENT_ID = 'UmpvMhVQkx4F2c-9_FPiTg'\n",
    "SECRET_KEY = pws[1]"
   ]
  },
  {
   "cell_type": "code",
   "execution_count": 64,
   "id": "aa9827c6-2a0c-44b5-8a1a-ae04be18b53e",
   "metadata": {},
   "outputs": [],
   "source": [
    "#make mysql connection \n",
    "cnx = mysql.connector.connect(\n",
    "    user='root',\n",
    "    password='password',\n",
    "    host='localhost',\n",
    "    database='redditdb'\n",
    ")"
   ]
  },
  {
   "cell_type": "code",
   "execution_count": 65,
   "id": "a34da4e0-16b5-45b0-bc82-3e1758976dc7",
   "metadata": {},
   "outputs": [],
   "source": [
    "reddit = praw.Reddit(\n",
    "    client_id=CLIENT_ID,\n",
    "    client_secret=SECRET_KEY,\n",
    "    user_agent='test',\n",
    "    password=pw,\n",
    "    username=\"namaws5495\",\n",
    "    redirect_uri=\"http://localhost:8080\"\n",
    ")"
   ]
  },
  {
   "cell_type": "code",
   "execution_count": 66,
   "id": "6abf6d03-e8cd-444b-aa06-b76a0f13c29a",
   "metadata": {},
   "outputs": [
    {
     "name": "stdout",
     "output_type": "stream",
     "text": [
      "True\n",
      "namaws5495\n"
     ]
    }
   ],
   "source": [
    "print(cnx.is_connected())\n",
    "print(reddit.user.me())"
   ]
  },
  {
   "cell_type": "code",
   "execution_count": 68,
   "id": "115178ce-bc5e-409e-bd1b-77cfac8dab83",
   "metadata": {},
   "outputs": [],
   "source": [
    "cursor = cnx.cursor()\n",
    "\n",
    "subreddit = reddit.subreddit('investing')\n",
    "top_posts = subreddit.hot(limit=10)\n",
    "\n",
    "for post in top_posts:\n",
    "    sql = \"INSERT INTO posts (id, title, subreddit, created_utc, score) VALUES (%s, %s, %s, %s, %s)\"\n",
    "    val = (post.id, post.title, post.subreddit.display_name, post.created_utc, post.score)\n",
    "    cursor.execute(sql, val)\n",
    "    cnx.commit()\n"
   ]
  },
  {
   "cell_type": "code",
   "execution_count": 69,
   "id": "11a89dca-affe-4d8b-a4ec-3f326beabbfd",
   "metadata": {},
   "outputs": [
    {
     "name": "stdout",
     "output_type": "stream",
     "text": [
      "1 record inserted.\n"
     ]
    }
   ],
   "source": [
    "print(cursor.rowcount, \"record inserted.\")"
   ]
  },
  {
   "cell_type": "code",
   "execution_count": 70,
   "id": "d2be2659-575a-412c-a482-218d07cb5796",
   "metadata": {},
   "outputs": [],
   "source": [
    "cursor.close()\n",
    "cnx.close()"
   ]
  },
  {
   "cell_type": "code",
   "execution_count": null,
   "id": "772f3908-318e-48b7-9d10-321ae3a9a667",
   "metadata": {},
   "outputs": [],
   "source": []
  }
 ],
 "metadata": {
  "kernelspec": {
   "display_name": "Python 3 (ipykernel)",
   "language": "python",
   "name": "python3"
  },
  "language_info": {
   "codemirror_mode": {
    "name": "ipython",
    "version": 3
   },
   "file_extension": ".py",
   "mimetype": "text/x-python",
   "name": "python",
   "nbconvert_exporter": "python",
   "pygments_lexer": "ipython3",
   "version": "3.9.12"
  }
 },
 "nbformat": 4,
 "nbformat_minor": 5
}
